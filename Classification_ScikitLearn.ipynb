{
 "cells": [
  {
   "cell_type": "markdown",
   "metadata": {},
   "source": [
    "# SECOND ASSIGNMENT. MACHINE LEARNING WITH SCIKIT-LEARN. \n",
    "## PART I (1.5 POINTS)\n",
    "\n",
    "The aim of part I of the Scikit-learn assignment is for you to self-learn and get used to this Machine Learning tool. The main part (part II) of the assignment will be explained next week (11/12). \n",
    "\n",
    "Here, you will learn to:\n",
    "\n",
    "- Perform a crossvalidation on the iris classification problem with decision trees (so far, we have only done regression)\n",
    "- Perform a crossvalidation on the iris classification problem **with KNN** (I haven't explained this, you will have to learn how to use it from the web)\n",
    "- Perform grid search in order to determine the best value for hyper-parameter K\n",
    "\n",
    "You will also have to go through two notebooks I have prepared for you in order to see how crossvalidation and hyper-parameter tuning are used in Scikit-learn\n",
    "\n",
    "\n"
   ]
  },
  {
   "cell_type": "markdown",
   "metadata": {},
   "source": [
    "# 0. Carry out the \"DECISION TREES WITH A TRAINING AND A TESTING SET AND CROSSVALIDATION\" notebook and understand the main ideas"
   ]
  },
  {
   "cell_type": "markdown",
   "metadata": {},
   "source": [
    "## 1. Perform a crossvalidation on the iris classification problem with decision trees:\n",
    "\n",
    "** It is important to remember that for classification, you have to use**\n",
    "- clf = tree.DecisionTreeClassifier() # for constructing the classifier\n",
    "- metrics.accuracy # for computing error"
   ]
  },
  {
   "cell_type": "code",
   "execution_count": 3,
   "metadata": {
    "collapsed": true
   },
   "outputs": [],
   "source": [
    "import warnings\n",
    "warnings.filterwarnings('ignore')"
   ]
  },
  {
   "cell_type": "code",
   "execution_count": 4,
   "metadata": {},
   "outputs": [
    {
     "name": "stdout",
     "output_type": "stream",
     "text": [
      "CV accuracy estimation: 0.94\n"
     ]
    }
   ],
   "source": [
    "from sklearn.datasets import load_iris\n",
    "from sklearn import tree\n",
    "from sklearn.cross_validation import train_test_split\n",
    "from sklearn import preprocessing\n",
    "from sklearn.cross_validation import cross_val_score, KFold\n",
    "from sklearn import metrics\n",
    "import numpy as np\n",
    "\n",
    "iris = load_iris()\n",
    "\n",
    "X = iris.data\n",
    "y = iris.target\n",
    "\n",
    "cv = KFold(X.shape[0], 10, shuffle=True) # getting a random partition\n",
    "scores = cross_val_score(tree.DecisionTreeClassifier(),X, y,\n",
    "                         scoring='accuracy', \n",
    "                         cv = cv)\n",
    "\n",
    "print(\"CV accuracy estimation: \"+str(np.mean(scores)))"
   ]
  },
  {
   "cell_type": "markdown",
   "metadata": {},
   "source": [
    "**COMMENTARIES:**\n",
    "\n",
    "Being imported from sklearn and from numpy what we need, we load iris dataset and set x as the attibutes and target as the classes. \n",
    "\n",
    "With the function KFold we specify we want a random partition of 10 sets of the data .\n",
    "\n",
    "cross_val_scores function performs the cross validation for the decision tree classifier, scoring the accuracy using the cv partition (output of the KFold function we used before). Finally we print the mean accuracy estimation as our estimation."
   ]
  },
  {
   "cell_type": "markdown",
   "metadata": {},
   "source": [
    "## 2. Perform a crossvalidation on the iris classification problem with KNN\n",
    "\n",
    "I haven't explained how to use KNN in Scikit-learn. You will have to read and obtain the relevant information [here](http://scikit-learn.org/stable/modules/neighbors.html)"
   ]
  },
  {
   "cell_type": "code",
   "execution_count": 6,
   "metadata": {},
   "outputs": [
    {
     "name": "stdout",
     "output_type": "stream",
     "text": [
      "CV accuracy estimation: 0.96\n"
     ]
    }
   ],
   "source": [
    "from sklearn import neighbors as NN\n",
    "\n",
    "scores = cross_val_score(NN.KNeighborsClassifier(),X, y,\n",
    "                         scoring='accuracy',cv = cv) # default K=5\n",
    "\n",
    "print(\"CV accuracy estimation: \"+str(np.mean(scores)))"
   ]
  },
  {
   "cell_type": "markdown",
   "metadata": {},
   "source": [
    "**COMMENTARIES:**\n",
    "\n",
    "We do exactly the same except for the method we want to stimate the accuracy. In this case is KNeighborsClassifier. "
   ]
  },
  {
   "cell_type": "markdown",
   "metadata": {},
   "source": [
    "## 3. Try different values for K (KNN) - change them by hand- and see if you obtain a better result than with KNN default value. Always use crossvalidation."
   ]
  },
  {
   "cell_type": "code",
   "execution_count": 10,
   "metadata": {},
   "outputs": [
    {
     "name": "stdout",
     "output_type": "stream",
     "text": [
      "K = 1 neighbors: CV accuracy estimation= 0.96\n",
      "\n",
      "K = 2 neighbors: CV accuracy estimation= 0.946666666667\n",
      "\n",
      "K = 3 neighbors: CV accuracy estimation= 0.96\n",
      "\n",
      "K = 4 neighbors: CV accuracy estimation= 0.96\n",
      "\n",
      "K = 5 neighbors: CV accuracy estimation= 0.966666666667\n",
      "\n",
      "K = 6 neighbors: CV accuracy estimation= 0.953333333333\n",
      "\n",
      "K = 7 neighbors: CV accuracy estimation= 0.96\n",
      "\n",
      "K = 8 neighbors: CV accuracy estimation= 0.973333333333\n",
      "\n",
      "K = 9 neighbors: CV accuracy estimation= 0.966666666667\n",
      "\n"
     ]
    }
   ],
   "source": [
    "for i in range(1,10):\n",
    "    scores=cross_val_score(NN.KNeighborsClassifier(n_neighbors=i),X, y,scoring='accuracy',cv = cv)\n",
    "    print(\"K = \"+ str(i)+\" neighbors: \" +\"CV accuracy estimation= \"+str(np.mean(scores)) +\"\\n\")"
   ]
  },
  {
   "cell_type": "code",
   "execution_count": 11,
   "metadata": {},
   "outputs": [
    {
     "data": {
      "image/png": "[encoded data removed]",
      "text/plain": [
       "<matplotlib.figure.Figure at 0x8984eb8>"
      ]
     },
     "metadata": {},
     "output_type": "display_data"
    }
   ],
   "source": [
    "import matplotlib.pyplot as plt\n",
    "Ktop=50\n",
    "scores=[]\n",
    "\n",
    "for i in range(1,Ktop):\n",
    "    errors=cross_val_score(NN.KNeighborsClassifier(n_neighbors=i),X, y,scoring='accuracy',cv = cv)\n",
    "    scores.append(np.mean(errors))\n",
    "\n",
    "plt.plot(scores,'r')\n",
    "plt.show()"
   ]
  },
  {
   "cell_type": "markdown",
   "metadata": {},
   "source": [
    "**COMMENTARIES:**\n",
    "\n",
    "Keeping the same partition for cross validation and changing from 1 to 50 the hyperparameter \"number of neighbours\" in the algorithm, we could say that the best value of the hyperparameter is K=8 (in this case, it gives us the highest accuracy)."
   ]
  },
  {
   "cell_type": "markdown",
   "metadata": {},
   "source": [
    "## 4. Carry out THE \"DECISION TREE HYPER-PARAMETERS. TUNING DECISION TREES\" notebook and understand the main ideas"
   ]
  },
  {
   "cell_type": "markdown",
   "metadata": {},
   "source": [
    "## 5. USE GRID SEARCH AND RANDOMIZED SEARCH TO FIND THE OPTIMAL VALUE FOR K"
   ]
  },
  {
   "cell_type": "markdown",
   "metadata": {},
   "source": [
    "- GRID SEARCH"
   ]
  },
  {
   "cell_type": "code",
   "execution_count": 7,
   "metadata": {},
   "outputs": [
    {
     "name": "stdout",
     "output_type": "stream",
     "text": [
      "Fitting 5 folds for each of 49 candidates, totalling 245 fits\n",
      "Wall time: 535 ms\n"
     ]
    },
    {
     "name": "stderr",
     "output_type": "stream",
     "text": [
      "[Parallel(n_jobs=1)]: Done 245 out of 245 | elapsed:    0.4s finished\n"
     ]
    },
    {
     "data": {
      "text/plain": [
       "({'n_neighbors': 6}, 0.98)"
      ]
     },
     "execution_count": 7,
     "metadata": {},
     "output_type": "execute_result"
    }
   ],
   "source": [
    "from sklearn.grid_search import GridSearchCV\n",
    "np.random.seed(0)\n",
    "param_grid = {'n_neighbors': range(1,50,1)}\n",
    "\n",
    "clf = GridSearchCV(NN.KNeighborsClassifier(), \n",
    "                   param_grid,\n",
    "                   scoring='accuracy',\n",
    "                   cv=5 , n_jobs=1, verbose=1)\n",
    "%time _ = clf.fit(X,y)\n",
    "\n",
    "\n",
    "clf.best_params_, clf.best_score_"
   ]
  },
  {
   "cell_type": "markdown",
   "metadata": {},
   "source": [
    "**COMMENTARIES:**\n",
    "\n",
    "Being imported the function GridSearchCV, we specify the param_grid in which there are all the possible values for the hyperparameter n_neighbors (from 1 to 50).\n",
    "\n",
    "Then we apply GridSearchCV for the method KNeighborsClassifier scoring the accuracy with 5-fold-crossvalidation.\n",
    "\n",
    "Finally, we see the time it took and also the best parameter (K=6) with its accuracy score (0.98)."
   ]
  },
  {
   "cell_type": "markdown",
   "metadata": {},
   "source": [
    "- RANDOMIZED SEARCH"
   ]
  },
  {
   "cell_type": "code",
   "execution_count": 8,
   "metadata": {},
   "outputs": [
    {
     "name": "stdout",
     "output_type": "stream",
     "text": [
      "Fitting 5 folds for each of 20 candidates, totalling 100 fits\n",
      "mean: 0.96667, std: 0.02108, params: {'n_neighbors': 3}\n",
      "mean: 0.97333, std: 0.02494, params: {'n_neighbors': 5}\n",
      "mean: 0.96667, std: 0.02981, params: {'n_neighbors': 8}\n",
      "mean: 0.98000, std: 0.02667, params: {'n_neighbors': 11}\n",
      "mean: 0.98000, std: 0.02667, params: {'n_neighbors': 12}\n",
      "mean: 0.96667, std: 0.02981, params: {'n_neighbors': 16}\n",
      "mean: 0.96667, std: 0.02981, params: {'n_neighbors': 19}\n",
      "mean: 0.94667, std: 0.03399, params: {'n_neighbors': 27}\n",
      "mean: 0.94000, std: 0.03887, params: {'n_neighbors': 28}\n",
      "mean: 0.93333, std: 0.04216, params: {'n_neighbors': 29}\n",
      "mean: 0.94000, std: 0.03887, params: {'n_neighbors': 30}\n",
      "mean: 0.93333, std: 0.04216, params: {'n_neighbors': 31}\n",
      "mean: 0.94667, std: 0.03399, params: {'n_neighbors': 32}\n",
      "mean: 0.94000, std: 0.03887, params: {'n_neighbors': 33}\n",
      "mean: 0.95333, std: 0.02667, params: {'n_neighbors': 34}\n",
      "mean: 0.95333, std: 0.02667, params: {'n_neighbors': 35}\n",
      "mean: 0.93333, std: 0.04216, params: {'n_neighbors': 38}\n",
      "mean: 0.94000, std: 0.03266, params: {'n_neighbors': 41}\n",
      "mean: 0.92667, std: 0.03887, params: {'n_neighbors': 47}\n",
      "mean: 0.94000, std: 0.03887, params: {'n_neighbors': 49}\n"
     ]
    },
    {
     "name": "stderr",
     "output_type": "stream",
     "text": [
      "[Parallel(n_jobs=1)]: Done 100 out of 100 | elapsed:    0.2s finished\n"
     ]
    },
    {
     "data": {
      "text/plain": [
       "({'n_neighbors': 11}, 0.98)"
      ]
     },
     "execution_count": 8,
     "metadata": {},
     "output_type": "execute_result"
    }
   ],
   "source": [
    "from sklearn.grid_search import GridSearchCV, RandomizedSearchCV\n",
    "from scipy.stats import randint as sp_randint\n",
    "np.random.seed(0)\n",
    "\n",
    "param_dist = {'n_neighbors': range(1,50,1)}\n",
    "\n",
    "n_iter_search = 20\n",
    "clfrs = RandomizedSearchCV(NN.KNeighborsClassifier(), \n",
    "                                   param_distributions=param_dist,\n",
    "                                   scoring='accuracy',\n",
    "                                   cv=5 , n_jobs=1, verbose=1,\n",
    "                                   n_iter=n_iter_search)\n",
    "clfrs.fit(X,y)\n",
    "clfrs.grid_scores_.sort()\n",
    "for line in clfrs.grid_scores_[0:25]:\n",
    "    print(line)\n",
    "    \n",
    "clfrs.best_params_, clfrs.best_score_"
   ]
  },
  {
   "cell_type": "markdown",
   "metadata": {},
   "source": [
    "**COMMENTARIES:**\n",
    "\n",
    "Being imported the function RandomizedSearchCV, we specify the param_dist in which it is going to do the random search for possible values for the hyperparameter n_neighbors (from 1 to 50).\n",
    "\n",
    "Then we apply RandomizedSearchCV (specifying previously n_iter_search = 20) for the method KNeighborsClassifier scoring the accuracy with 5-fold-crossvalidation. \n",
    "\n",
    "Finally, we see the time it took (obviously in this case less time) and also the best parameter (K=11) with its accuracy score (0.98).\n"
   ]
  },
  {
   "cell_type": "markdown",
   "metadata": {},
   "source": [
    "# 6. OPTIONAL (you may get 0.25 extra points if you decide to do this). \n",
    "\n",
    "K is the main hyper-parameter of KNN. Find another hyper-parameter that you consider relevant, and try to optimize both K and the other parameter using grid-search. Are you able to improve on previous results?"
   ]
  },
  {
   "cell_type": "code",
   "execution_count": 9,
   "metadata": {
    "scrolled": false
   },
   "outputs": [
    {
     "name": "stdout",
     "output_type": "stream",
     "text": [
      "Fitting 5 folds for each of 392 candidates, totalling 1960 fits\n",
      "Wall time: 4.07 s\n"
     ]
    },
    {
     "name": "stderr",
     "output_type": "stream",
     "text": [
      "[Parallel(n_jobs=1)]: Done 1960 out of 1960 | elapsed:    4.0s finished\n"
     ]
    },
    {
     "data": {
      "text/plain": [
       "({'metric': 'euclidean', 'n_neighbors': 10, 'weights': 'distance'},\n",
       " 0.9866666666666667)"
      ]
     },
     "execution_count": 9,
     "metadata": {},
     "output_type": "execute_result"
    }
   ],
   "source": [
    "from sklearn.grid_search import GridSearchCV\n",
    "np.random.seed(0)\n",
    "param_grid = {'n_neighbors': range(1,50,1),\n",
    "              'weights':('uniform', 'distance'),\n",
    "              'metric':('euclidean','manhattan','chebyshev','minkowski')}\n",
    "\n",
    "clf = GridSearchCV(NN.KNeighborsClassifier(), \n",
    "                   param_grid,\n",
    "                   scoring='accuracy',\n",
    "                   cv=5 , n_jobs=1, verbose=1)\n",
    "%time _ = clf.fit(X,y)\n",
    "\n",
    "clf.best_params_, clf.best_score_"
   ]
  },
  {
   "cell_type": "markdown",
   "metadata": {},
   "source": [
    "**COMMENTARIES:**\n",
    "    \n",
    "We decided to include the hyperparameters:\n",
    "\n",
    "- Weights: Uniform if we give the same importance for the K nearest neighbors, or Distance if we give weighted importance depending on the distance (the closer the more) for the K nearest neighbours.\n",
    "\n",
    "- Metric: Using the following different distances ir order to calculate the K nearest neighbours: Euclidean, Manhatan, Chebyshev and Minkoski.\n",
    "\n",
    "Then the process is exactly the same we have done for grid search, obtaining the best hyperparameters: 'metric': 'euclidean', 'n_neighbors': 10, 'weights': 'distance',  with its accuracy score (0.98)."
   ]
  }
 ],
 "metadata": {
  "anaconda-cloud": {},
  "kernelspec": {
   "display_name": "Python 2",
   "language": "python",
   "name": "python2"
  },
  "language_info": {
   "codemirror_mode": {
    "name": "ipython",
    "version": 2
   },
   "file_extension": ".py",
   "mimetype": "text/x-python",
   "name": "python",
   "nbconvert_exporter": "python",
   "pygments_lexer": "ipython2",
   "version": "2.7.14"
  }
 },
 "nbformat": 4,
 "nbformat_minor": 1
}
